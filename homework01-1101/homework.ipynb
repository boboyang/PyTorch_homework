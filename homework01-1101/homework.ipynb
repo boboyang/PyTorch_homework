{
 "cells": [
  {
   "cell_type": "markdown",
   "metadata": {},
   "source": [
    "# 基于词向量的英汉翻译——“火炬上的深度学习\"下第一次作业\n",
    "\n",
    "在这个作业中，你需要半独立地完成一个英文到中文的单词翻译器\n",
    "\n",
    "本文件是集智AI学园http://campus.swarma.org 出品的“火炬上的深度学习”第VI课的配套源代码"
   ]
  },
  {
   "cell_type": "code",
   "execution_count": 1,
   "metadata": {
    "collapsed": true
   },
   "outputs": [],
   "source": [
    "# 加载必要的程序包\n",
    "# PyTorch的程序包\n",
    "import torch\n",
    "from torch.autograd import Variable\n",
    "import torch.nn as nn\n",
    "import torch.nn.functional as F\n",
    "import torch.optim as optim\n",
    "\n",
    "# 数值运算和绘图的程序包\n",
    "import numpy as np\n",
    "import matplotlib.pyplot as plt\n",
    "import matplotlib\n",
    "\n",
    "\n",
    "# 加载机器学习的软件包，主要为了词向量的二维可视化\n",
    "from sklearn.decomposition import PCA\n",
    "\n",
    "#加载Word2Vec的软件包\n",
    "import gensim as gensim\n",
    "from gensim.models import Word2Vec\n",
    "from gensim.models.keyedvectors import KeyedVectors\n",
    "from gensim.models.word2vec import LineSentence\n",
    "\n",
    "#加载正则表达式处理的包\n",
    "import re\n",
    "\n",
    "#在Notebook界面能够直接显示图形\n",
    "%matplotlib inline"
   ]
  },
  {
   "cell_type": "markdown",
   "metadata": {},
   "source": [
    "## 第一步：加载词向量\n",
    "\n",
    "首先，让我们加载别人已经在大型语料库上训练好的词向量"
   ]
  },
  {
   "cell_type": "code",
   "execution_count": 2,
   "metadata": {},
   "outputs": [
    {
     "name": "stdout",
     "output_type": "stream",
     "text": [
      "1366130\n"
     ]
    }
   ],
   "source": [
    "# 加载中文词向量，下载地址为：链接：http://pan.baidu.com/s/1gePQAun 密码：kvtg\n",
    "# 该中文词向量库是由尹相志提供，训练语料来源为：微博、人民日报、上海热线、汽车之家等，包含1366130个词向量\n",
    "word_vectors = KeyedVectors.load_word2vec_format('vectors.bin', binary=True, unicode_errors='ignore')\n",
    "print(len(word_vectors.vocab))"
   ]
  },
  {
   "cell_type": "code",
   "execution_count": 3,
   "metadata": {},
   "outputs": [
    {
     "name": "stdout",
     "output_type": "stream",
     "text": [
      "400000\n"
     ]
    }
   ],
   "source": [
    "# 加载英文的词向量，下载地址为：http://nlp.stanford.edu/data/glove.6B.zip，解压后将glove.6B.100d.txt文件拷贝到与本notebook\n",
    "# 文件一致的文件夹洗面。\n",
    "f = open('glove.6B.100d.txt', 'r')\n",
    "i = 1\n",
    "\n",
    "# 将英文的词向量都存入如下的字典中\n",
    "word_vectors_en = {}\n",
    "with open('glove.6B.100d.txt') as f:\n",
    "    for line in f:\n",
    "        numbers = line.split()\n",
    "        word = numbers[0]\n",
    "        vectors = np.array([float(i) for i in numbers[1 : ]])\n",
    "        word_vectors_en[word] = vectors\n",
    "        i += 1\n",
    "print(len(word_vectors_en))"
   ]
  },
  {
   "cell_type": "markdown",
   "metadata": {},
   "source": [
    "## 第二步：可视化同一组意思词在两种不同语言的词向量中的相互位置关系"
   ]
  },
  {
   "cell_type": "code",
   "execution_count": 4,
   "metadata": {
    "collapsed": true
   },
   "outputs": [],
   "source": [
    "# 中文的一二三四五列表\n",
    "cn_list = {'一', '二', '三', '四', '五', '六', '七', '八', '九', '零'}\n",
    "# 阿拉伯数字的12345列表\n",
    "en_list = {'1', '2', '3', '4', '5', '6', '7', '8', '9', '0'}\n",
    "# 英文数字的列表\n",
    "en_list = {'one', 'two', 'three', 'four', 'five', 'six', 'seven', 'eight', 'nine', 'zero'}\n",
    "\n",
    "# 对应词向量都存入到列表中\n",
    "cn_vectors = []  #中文的词向量列表\n",
    "en_vectors = []  #英文的词向量列表\n",
    "for w in cn_list:\n",
    "    cn_vectors.append(word_vectors[w])\n",
    "for w in en_list:\n",
    "    en_vectors.append(word_vectors_en[w])\n",
    "\n",
    "# 将这些词向量统一转化为矩阵\n",
    "cn_vectors = np.array(cn_vectors)\n",
    "en_vectors = np.array(en_vectors)"
   ]
  },
  {
   "cell_type": "code",
   "execution_count": 5,
   "metadata": {},
   "outputs": [
    {
     "data": {
      "image/png": "[encoded data removed]",
      "text/plain": [
       "<matplotlib.figure.Figure at 0x1137b7668>"
      ]
     },
     "metadata": {},
     "output_type": "display_data"
    }
   ],
   "source": [
    "# 降维实现可视化\n",
    "X_reduced = PCA(n_components=2).fit_transform(cn_vectors)\n",
    "Y_reduced = PCA(n_components = 2).fit_transform(en_vectors)\n",
    "\n",
    "# 绘制所有单词向量的二维空间投影\n",
    "f, (ax1, ax2) = plt.subplots(1, 2, figsize = (10, 8))\n",
    "ax1.plot(X_reduced[:, 0], X_reduced[:, 1], 'o')\n",
    "ax2.plot(Y_reduced[:, 0], Y_reduced[:, 1], 'o')\n",
    "zhfont1 = matplotlib.font_manager.FontProperties(fname='/System/Library/Fonts/PingFang.ttc', size=16)\n",
    "for i, w in enumerate(cn_list):\n",
    "    ax1.text(X_reduced[i, 0], X_reduced[i, 1], w, fontproperties = zhfont1, alpha = 1)\n",
    "for i, w in enumerate(en_list):\n",
    "    ax2.text(Y_reduced[i, 0], Y_reduced[i, 1], w, alpha = 1)"
   ]
  },
  {
   "cell_type": "markdown",
   "metadata": {},
   "source": [
    "### 结论：可以看出，中文的一、二、等数字彼此之间的关系与英文的数字彼此之间的关系很类似"
   ]
  },
  {
   "cell_type": "markdown",
   "metadata": {},
   "source": [
    "## 第三步：训练一个神经网络，输入一个英文单词的词向量，输出一个中文的词向量，并翻译为中文"
   ]
  },
  {
   "cell_type": "markdown",
   "metadata": {},
   "source": [
    "首先，读入一个已经建立好的词典（dictionary.txt）。本词典是老师调用百度翻译的API，自动将一篇英文小说中的词汇逐个翻译为中文而得来的\n",
    "\n",
    "我们一个个地载入词典，并查找对应的中文词向量，如果找得到，则放入original_words中，做为正式的训练集"
   ]
  },
  {
   "cell_type": "code",
   "execution_count": 6,
   "metadata": {},
   "outputs": [
    {
     "name": "stdout",
     "output_type": "stream",
     "text": [
      "4962\n"
     ]
    }
   ],
   "source": [
    "original_words = []\n",
    "with open('dictionary.txt', 'r') as f:\n",
    "    dataset = []\n",
    "    for line in f:\n",
    "        itm = line.split('\\t')\n",
    "        eng = itm[0]\n",
    "        chn = itm[1].strip()\n",
    "        if eng in word_vectors_en and chn in word_vectors:\n",
    "            data = word_vectors_en[eng]\n",
    "            target = word_vectors[chn]\n",
    "            # 将中英文词对做成数据集\n",
    "            dataset.append([data, target])\n",
    "            original_words.append([eng, chn])\n",
    "print(len(dataset)) # 共有4962个单词做为总的数据集合"
   ]
  },
  {
   "cell_type": "code",
   "execution_count": 7,
   "metadata": {
    "collapsed": true
   },
   "outputs": [],
   "source": [
    "# 建立训练集、测试集和校验集\n",
    "# 训练集用来训练神经网络，更改网络的参数；校验集用来判断网络模型是否过拟合：当校验集的损失数值超过训练集的时候，即为过拟合\n",
    "# 测试集用来检验模型的好坏\n",
    "indx = np.random.permutation(range(len(dataset)))\n",
    "dataset = [dataset[i] for i in indx]\n",
    "original_words = [original_words[i] for i in indx]\n",
    "train_size = 500\n",
    "train_data = dataset[train_size:]\n",
    "valid_data = dataset[train_size // 2 : train_size]\n",
    "test_data = dataset[: train_size // 2]\n",
    "test_words = original_words[: train_size // 2]\n"
   ]
  },
  {
   "cell_type": "code",
   "execution_count": 8,
   "metadata": {
    "scrolled": false
   },
   "outputs": [
    {
     "name": "stdout",
     "output_type": "stream",
     "text": [
      "0轮，训练Loss: 8.73, 校验Loss: 8.67\n",
      "1轮，训练Loss: 8.33, 校验Loss: 8.39\n",
      "2轮，训练Loss: 8.07, 校验Loss: 8.20\n",
      "3轮，训练Loss: 7.91, 校验Loss: 8.09\n",
      "4轮，训练Loss: 7.80, 校验Loss: 8.01\n",
      "5轮，训练Loss: 7.71, 校验Loss: 7.94\n",
      "6轮，训练Loss: 7.64, 校验Loss: 7.89\n",
      "7轮，训练Loss: 7.58, 校验Loss: 7.84\n",
      "8轮，训练Loss: 7.52, 校验Loss: 7.80\n",
      "9轮，训练Loss: 7.48, 校验Loss: 7.76\n",
      "10轮，训练Loss: 7.44, 校验Loss: 7.73\n",
      "11轮，训练Loss: 7.40, 校验Loss: 7.70\n",
      "12轮，训练Loss: 7.37, 校验Loss: 7.67\n",
      "13轮，训练Loss: 7.34, 校验Loss: 7.65\n",
      "14轮，训练Loss: 7.31, 校验Loss: 7.63\n",
      "15轮，训练Loss: 7.29, 校验Loss: 7.62\n",
      "16轮，训练Loss: 7.27, 校验Loss: 7.60\n",
      "17轮，训练Loss: 7.25, 校验Loss: 7.59\n",
      "18轮，训练Loss: 7.23, 校验Loss: 7.58\n",
      "19轮，训练Loss: 7.21, 校验Loss: 7.57\n",
      "20轮，训练Loss: 7.20, 校验Loss: 7.56\n",
      "21轮，训练Loss: 7.19, 校验Loss: 7.55\n",
      "22轮，训练Loss: 7.17, 校验Loss: 7.54\n",
      "23轮，训练Loss: 7.16, 校验Loss: 7.53\n",
      "24轮，训练Loss: 7.15, 校验Loss: 7.53\n",
      "25轮，训练Loss: 7.14, 校验Loss: 7.52\n",
      "26轮，训练Loss: 7.13, 校验Loss: 7.52\n",
      "27轮，训练Loss: 7.12, 校验Loss: 7.51\n",
      "28轮，训练Loss: 7.11, 校验Loss: 7.50\n",
      "29轮，训练Loss: 7.10, 校验Loss: 7.50\n",
      "30轮，训练Loss: 7.10, 校验Loss: 7.50\n",
      "31轮，训练Loss: 7.09, 校验Loss: 7.49\n",
      "32轮，训练Loss: 7.08, 校验Loss: 7.49\n",
      "33轮，训练Loss: 7.08, 校验Loss: 7.48\n",
      "34轮，训练Loss: 7.07, 校验Loss: 7.48\n",
      "35轮，训练Loss: 7.07, 校验Loss: 7.48\n",
      "36轮，训练Loss: 7.06, 校验Loss: 7.48\n",
      "37轮，训练Loss: 7.06, 校验Loss: 7.47\n",
      "38轮，训练Loss: 7.05, 校验Loss: 7.47\n",
      "39轮，训练Loss: 7.05, 校验Loss: 7.47\n",
      "40轮，训练Loss: 7.04, 校验Loss: 7.47\n",
      "41轮，训练Loss: 7.04, 校验Loss: 7.46\n",
      "42轮，训练Loss: 7.03, 校验Loss: 7.46\n",
      "43轮，训练Loss: 7.03, 校验Loss: 7.46\n",
      "44轮，训练Loss: 7.03, 校验Loss: 7.46\n",
      "45轮，训练Loss: 7.02, 校验Loss: 7.46\n",
      "46轮，训练Loss: 7.02, 校验Loss: 7.45\n",
      "47轮，训练Loss: 7.02, 校验Loss: 7.45\n",
      "48轮，训练Loss: 7.01, 校验Loss: 7.45\n",
      "49轮，训练Loss: 7.01, 校验Loss: 7.45\n",
      "50轮，训练Loss: 7.01, 校验Loss: 7.45\n",
      "51轮，训练Loss: 7.01, 校验Loss: 7.45\n",
      "52轮，训练Loss: 7.00, 校验Loss: 7.45\n",
      "53轮，训练Loss: 7.00, 校验Loss: 7.45\n",
      "54轮，训练Loss: 7.00, 校验Loss: 7.44\n",
      "55轮，训练Loss: 7.00, 校验Loss: 7.44\n",
      "56轮，训练Loss: 7.00, 校验Loss: 7.44\n",
      "57轮，训练Loss: 6.99, 校验Loss: 7.44\n",
      "58轮，训练Loss: 6.99, 校验Loss: 7.44\n",
      "59轮，训练Loss: 6.99, 校验Loss: 7.44\n",
      "60轮，训练Loss: 6.99, 校验Loss: 7.44\n",
      "61轮，训练Loss: 6.99, 校验Loss: 7.44\n",
      "62轮，训练Loss: 6.98, 校验Loss: 7.44\n",
      "63轮，训练Loss: 6.98, 校验Loss: 7.44\n",
      "64轮，训练Loss: 6.98, 校验Loss: 7.44\n",
      "65轮，训练Loss: 6.98, 校验Loss: 7.44\n",
      "66轮，训练Loss: 6.98, 校验Loss: 7.44\n",
      "67轮，训练Loss: 6.98, 校验Loss: 7.44\n",
      "68轮，训练Loss: 6.98, 校验Loss: 7.44\n",
      "69轮，训练Loss: 6.97, 校验Loss: 7.44\n",
      "70轮，训练Loss: 6.97, 校验Loss: 7.44\n",
      "71轮，训练Loss: 6.97, 校验Loss: 7.43\n",
      "72轮，训练Loss: 6.97, 校验Loss: 7.43\n",
      "73轮，训练Loss: 6.97, 校验Loss: 7.43\n",
      "74轮，训练Loss: 6.97, 校验Loss: 7.43\n",
      "75轮，训练Loss: 6.97, 校验Loss: 7.43\n",
      "76轮，训练Loss: 6.97, 校验Loss: 7.43\n",
      "77轮，训练Loss: 6.97, 校验Loss: 7.43\n",
      "78轮，训练Loss: 6.96, 校验Loss: 7.43\n",
      "79轮，训练Loss: 6.96, 校验Loss: 7.43\n",
      "80轮，训练Loss: 6.96, 校验Loss: 7.43\n",
      "81轮，训练Loss: 6.96, 校验Loss: 7.43\n",
      "82轮，训练Loss: 6.96, 校验Loss: 7.43\n",
      "83轮，训练Loss: 6.96, 校验Loss: 7.43\n",
      "84轮，训练Loss: 6.96, 校验Loss: 7.43\n",
      "85轮，训练Loss: 6.96, 校验Loss: 7.43\n",
      "86轮，训练Loss: 6.96, 校验Loss: 7.43\n",
      "87轮，训练Loss: 6.96, 校验Loss: 7.43\n",
      "88轮，训练Loss: 6.96, 校验Loss: 7.43\n",
      "89轮，训练Loss: 6.96, 校验Loss: 7.43\n",
      "90轮，训练Loss: 6.95, 校验Loss: 7.43\n",
      "91轮，训练Loss: 6.95, 校验Loss: 7.43\n",
      "92轮，训练Loss: 6.95, 校验Loss: 7.43\n",
      "93轮，训练Loss: 6.95, 校验Loss: 7.43\n",
      "94轮，训练Loss: 6.95, 校验Loss: 7.43\n",
      "95轮，训练Loss: 6.95, 校验Loss: 7.43\n",
      "96轮，训练Loss: 6.95, 校验Loss: 7.43\n",
      "97轮，训练Loss: 6.95, 校验Loss: 7.43\n",
      "98轮，训练Loss: 6.95, 校验Loss: 7.43\n",
      "99轮，训练Loss: 6.95, 校验Loss: 7.43\n"
     ]
    }
   ],
   "source": [
    "# 开始训练一个多层神经网络，将一个100维度的英文向量映射为200维度的中文词向量，隐含层节点为30\n",
    "\n",
    "input_size = 100\n",
    "output_size = 200\n",
    "hidden_size = 30\n",
    "\n",
    "# 新建一个神经网络，包含一个隐含层\n",
    "model = torch.nn.Sequential(torch.nn.Linear(input_size, hidden_size),\n",
    "                     torch.nn.Tanh(),\n",
    "                     torch.nn.Linear(hidden_size, output_size)\n",
    "                     )\n",
    "\n",
    "# 构造损失函数\n",
    "criterion = torch.nn.MSELoss()\n",
    "\n",
    "# 构造优化器\n",
    "optimizer = torch.optim.Adam(model.parameters(), lr = 0.0001)\n",
    "\n",
    "# 总的循环周期\n",
    "num_epoch = 100\n",
    "\n",
    "\n",
    "#开始训练500次，每次对所有的数据都做循环\n",
    "results = []\n",
    "for epoch in range(num_epoch):\n",
    "    train_loss = []\n",
    "    for data in train_data:\n",
    "        # 读入数据\n",
    "        x = Variable(torch.FloatTensor(data[0])).unsqueeze(0)\n",
    "        y = Variable(torch.FloatTensor(data[1])).unsqueeze(0)\n",
    "        # 模型预测\n",
    "        output = model(x)\n",
    "        \n",
    "        # 反向传播算法训练\n",
    "        optimizer.zero_grad()\n",
    "        loss = criterion(output, y)\n",
    "        train_loss.append(loss.data.numpy()[0])\n",
    "        loss.backward()\n",
    "        optimizer.step()\n",
    "    # 在校验集上测试一下效果\n",
    "    valid_loss = []\n",
    "    for data in valid_data:\n",
    "        x = Variable(torch.FloatTensor(data[0])).unsqueeze(0)\n",
    "        y = Variable(torch.FloatTensor(data[1])).unsqueeze(0)\n",
    "        output = model(x)\n",
    "        loss = criterion(output, y)\n",
    "        valid_loss.append(loss.data.numpy()[0])\n",
    "    results.append([np.mean(train_loss), np.mean(valid_loss)])\n",
    "    print('{}轮，训练Loss: {:.2f}, 校验Loss: {:.2f}'.format(epoch, np.mean(train_loss), np.mean(valid_loss)))\n"
   ]
  },
  {
   "cell_type": "code",
   "execution_count": 9,
   "metadata": {},
   "outputs": [
    {
     "name": "stdout",
     "output_type": "stream",
     "text": [
      "[[8.7266426, 8.6740389], [8.3268251, 8.3886623], [8.0683985, 8.202508], [7.905406, 8.0897436], [7.7956738, 8.0083284], [7.7099166, 7.9420466], [7.6381788, 7.8857188], [7.5768032, 7.8371992], [7.523716, 7.7951794], [7.4773836, 7.7586598], [7.4366059, 7.7268205], [7.4004493, 7.6989765], [7.368196, 7.6745601], [7.3392806, 7.6530933], [7.3132496, 7.6341715], [7.2897229, 7.6174445], [7.2683773, 7.6026082], [7.2489338, 7.5893984], [7.2311549, 7.5775871], [7.2148409, 7.5669785], [7.199821, 7.5574064], [7.1859512, 7.5487275], [7.1731091, 7.5408211], [7.1611891, 7.533586], [7.1501012, 7.5269346], [7.1397662, 7.5207953], [7.1301146, 7.5151081], [7.1210866, 7.5098219], [7.112628, 7.5048952], [7.1046925, 7.5002937], [7.0972362, 7.4959884], [7.0902219, 7.4919543], [7.0836163, 7.4881706], [7.0773864, 7.4846182], [7.0715055, 7.4812832], [7.0659466, 7.4781499], [7.0606871, 7.4752059], [7.0557041, 7.4724393], [7.0509782, 7.469841], [7.0464926, 7.4673996], [7.0422297, 7.4651065], [7.0381751, 7.4629545], [7.0343156, 7.4609342], [7.0306392, 7.4590397], [7.027133, 7.4572635], [7.0237885, 7.4555988], [7.020596, 7.4540396], [7.0175467, 7.4525785], [7.0146322, 7.4512119], [7.0118446, 7.4499316], [7.0091786, 7.4487333], [7.0066261, 7.4476118], [7.0041819, 7.4465613], [7.0018401, 7.4455771], [6.9995947, 7.4446549], [6.9974408, 7.443789], [6.9953728, 7.4429755], [6.9933867, 7.4422102], [6.9914784, 7.4414897], [6.9896426, 7.4408097], [6.9878769, 7.440167], [6.986176, 7.439558], [6.9845366, 7.4389806], [6.9829559, 7.4384313], [6.9814301, 7.4379067], [6.9799566, 7.4374051], [6.9785333, 7.4369268], [6.9771562, 7.4364662], [6.9758234, 7.4360232], [6.9745331, 7.4355965], [6.9732823, 7.435183], [6.9720688, 7.434783], [6.9708924, 7.4343953], [6.9697499, 7.4340186], [6.9686399, 7.433651], [6.9675603, 7.4332919], [6.9665103, 7.4329414], [6.9654884, 7.4325976], [6.9644938, 7.4322619], [6.9635239, 7.4319305], [6.9625788, 7.4316058], [6.9616566, 7.4312868], [6.9607573, 7.4309726], [6.9598789, 7.4306622], [6.9590211, 7.4303565], [6.9581833, 7.4300547], [6.9573641, 7.4297557], [6.956563, 7.429462], [6.9557791, 7.4291701], [6.9550114, 7.4288816], [6.9542603, 7.428596], [6.9535241, 7.4283133], [6.9528031, 7.4280343], [6.9520969, 7.4277563], [6.9514041, 7.4274821], [6.9507236, 7.4272094], [6.9500575, 7.4269395], [6.9494028, 7.426672], [6.94876, 7.4264064], [6.9481287, 7.4261427]]\n"
     ]
    }
   ],
   "source": [
    "print(results)"
   ]
  },
  {
   "cell_type": "code",
   "execution_count": 10,
   "metadata": {},
   "outputs": [
    {
     "data": {
      "text/plain": [
       "<matplotlib.legend.Legend at 0x178dc9b70>"
      ]
     },
     "execution_count": 10,
     "metadata": {},
     "output_type": "execute_result"
    },
    {
     "data": {
      "image/png": "[encoded data removed]",
      "text/plain": [
       "<matplotlib.figure.Figure at 0x17284db70>"
      ]
     },
     "metadata": {},
     "output_type": "display_data"
    }
   ],
   "source": [
    "# 绘制图形\n",
    "a = [i[0] for i in results]\n",
    "b = [i[1] for i in results]\n",
    "plt.plot(a, 'o', label = 'Training_Loss')\n",
    "plt.plot(b, 's', label = 'Validation_Loss')\n",
    "plt.xlabel('Epoch')\n",
    "plt.ylabel('Loss Function')\n",
    "plt.legend()"
   ]
  },
  {
   "cell_type": "code",
   "execution_count": null,
   "metadata": {
    "collapsed": true
   },
   "outputs": [],
   "source": []
  },
  {
   "cell_type": "code",
   "execution_count": 14,
   "metadata": {},
   "outputs": [
    {
     "name": "stdout",
     "output_type": "stream",
     "text": [
      "精确匹配率：0.09\n",
      "一字匹配率：0.17\n",
      "[['罐', '木炭'], ['热忱', '感动'], ['码', '米'], ['服装', '款式'], ['肾脏', '损伤'], ['岩', '石块'], ['1978', '1966'], ['嗯', '呵呵'], ['来', '时候'], ['确实', '所以'], ['旁边', '边上'], ['戳', '打断'], ['甜蜜', '自然'], ['跳', '豆子'], ['禁止', '强迫'], ['计算', '脆弱'], ['你好', '小子'], ['转身', '看见'], ['眼泪', '哭泣'], ['再见', '我'], ['嗤之以鼻', '反驳'], ['天', '晚上'], ['原因', '损伤'], ['密封', '特制'], ['平方', '长廊'], ['绘制', '拼凑'], ['de', '女王'], ['上升', '侵蚀'], ['记者', '质问'], ['设置', '功能'], ['猎枪', '钳'], ['建筑', '建设'], ['随时', '慌乱'], ['杂志', 'sonnet'], ['软件', '应用'], ['无聊', '害怕'], ['主机', '生态系统'], ['补救', '可能'], ['信使', '语音'], ['极大', '重视'], ['妈妈', '我'], ['怀疑', '怀疑'], ['打', '一百'], ['最近', '相邻'], ['歌', '我'], ['成瘾者', '患者'], ['别处', '危险'], ['地狱', '恶魔'], ['门将', '顶上'], ['眼', '眼睛'], ['烂', '真的'], ['各种', '内容'], ['一些', '有'], ['敷衍了事', '敷衍'], ['标记', '纹路'], ['轮毂', '锈'], ['生产', '生产'], ['失控', '颤抖'], ['承认', '我'], ['食品', '食物'], ['的', '的'], ['易', '安静'], ['停止', '躲避'], ['丧失', '退回'], ['欢迎', '感谢'], ['希望', '恐惧'], ['手表', '照相机'], ['是', '我'], ['写', '写'], ['等待', '重新启动'], ['情况', '必要'], ['痒', '痛'], ['渠道', '模块'], ['隐藏', '躲藏'], ['训练', '训练有素'], ['雪茄', '巧克力'], ['窃听', '告诉他'], ['举行', '指定'], ['呼', '这时'], ['镜头', '打'], ['商城', '酒店'], ['咆哮', '咆哮'], ['傻瓜', '死'], ['维托', '布鲁斯'], ['可能', '可能'], ['角', '底面'], ['有线', '内置'], ['成功', '推动'], ['成长', '生长'], ['看着', '惊叫'], ['示踪剂', '物体'], ['恳求', '听到'], ['诗歌', '艺术'], ['剂', '恐怖分子'], ['返回', '离开'], ['中央', '西面'], ['马裤', '肩'], ['来势汹汹', '惊恐'], ['敏感', '有效'], ['人格', '语言'], ['沉没', '断'], ['一致', '合理'], ['法国', '法国'], ['除了', '理解'], ['地区', '环境'], ['椅子', '凳'], ['鬣蜥', '蛇'], ['泽', '设备'], ['掠过', '扭动'], ['被', '因为'], ['显示', '辨识'], ['降落', '倒'], ['法官', '辩护'], ['火星', '宇宙'], ['少数', '全部都是'], ['节奏', '轻快'], ['古', '遗迹'], ['汇款', '结算'], ['拼命', '害怕'], ['低', '强度'], ['乡亲', '我'], ['专长', '技术'], ['送', '发给'], ['潮湿', '干燥'], ['临时', '关闭'], ['睫毛膏', '后背'], ['非常', '真的'], ['发生', '啊'], ['诊断', '诊断'], ['欢天喜地', '感动'], ['吐痰', '吼叫'], ['说', '说'], ['外', '弓形'], ['设计师', '配饰'], ['封闭', '置放'], ['小说', '寓言'], ['侧身', '翻滚'], ['固定', '惊恐'], ['杂志', '留声机'], ['信息', '信息'], ['气味', '味道'], ['学习', '屁股'], ['偷看', '看见'], ['剂', '黑客'], ['均匀', '裁剪'], ['还', '就算'], ['领', '领子'], ['针', '凹槽'], ['海德堡', '地质学家'], ['分贝', '分贝'], ['唐娜', '玛丽'], ['尘', '碎屑'], ['假', '伪造'], ['山', '山脚下'], ['屏幕', '屏幕'], ['燧石', '蝴蝶'], ['播音员', '话筒'], ['发现', '看见'], ['征服', '毁灭'], ['犹豫', '沮丧'], ['好奇', '似乎'], ['服务', '调配'], ['诗句', '独白'], ['野蛮', '杀戮'], ['孩子', '妈妈'], ['突然', '突然'], ['降', '盘旋'], ['残余', '残存'], ['是', '我'], ['塑料', '塑料'], ['在', '可能'], ['泄漏', '泄漏'], ['秃鹫', '邪恶'], ['超越', '它'], ['挖掘', '工程'], ['定居', '不知所终'], ['电器', '沿着'], ['警卫', '保安'], ['本', '南希'], ['钟', '音'], ['的', '东西'], ['地形', '地形'], ['徘徊', '看见'], ['犬', '宠物'], ['饮料', '水果'], ['写', '写'], ['列', '长方形'], ['办公室', '办公室'], ['枯萎', '四肢'], ['女士', '公主'], ['嘲弄', '呼喊'], ['口音', '女性化'], ['大笑', '害怕'], ['酒店', '餐厅'], ['新', '揭露'], ['怪物', '怪兽'], ['命运', '背叛'], ['办公室', '办公室'], ['轮胎', '部件'], ['地方', '祭坛'], ['检查站', '巡逻'], ['扭动', '挣脱'], ['麦田', '沼泽地'], ['遗忘', '也许'], ['爱迪生', '机电设备'], ['深', '裂开'], ['面具', '斗篷'], ['长筒靴', '后背'], ['高卢', '铁匠'], ['谈', '说'], ['炸弹', '爆炸'], ['介绍', '通过'], ['重量', '强度'], ['公寓', '宾馆'], ['国家', '组织'], ['风景', '色彩斑斓'], ['表示', '说明'], ['七十', '不知不觉'], ['丝绸', '花纹'], ['商业', '业务'], ['哄骗', '责怪'], ['紧缩', '连锁反应'], ['体', '绒毛'], ['特别', '模块'], ['开始', '开始'], ['传统', '传统'], ['哈瓦那', '扳'], ['画', '比赛'], ['平衡', '合理'], ['亲爱的', '我'], ['求', '我'], ['大声', '说'], ['穿', '衣服'], ['装置', '传感器'], ['兄弟', '彼得'], ['凯迪拉克', '旅行箱'], ['皮特', '罗伯特'], ['外部', '部件'], ['肌肉', '弓'], ['下沉', '倾覆'], ['失望', '失望'], ['走', '推动'], ['酿造', '水果'], ['摇', '擦'], ['自信', '思索'], ['感激', '想'], ['顺口', '说'], ['39', '10'], ['荒凉', '荒凉'], ['今晚', '我']]\n"
     ]
    }
   ],
   "source": [
    "# 在测试集上验证准确度\n",
    "# 检验标准有两个：一个是直接用预测的词和标准答案做全词匹配；另一个是做单字的匹配\n",
    "exact_same = 0  #全词匹配数量\n",
    "one_same = 0 #单字匹配数量\n",
    "results = []\n",
    "for i, data in enumerate(test_data):\n",
    "    x = Variable(torch.FloatTensor(data[0])).unsqueeze(0)\n",
    "    # 给出模型的输出\n",
    "    output = model(x)\n",
    "    output = output.squeeze().data.numpy()\n",
    "    # 从中文词向量中找到与输出向量最相似的向量\n",
    "    most_similar = word_vectors.wv.similar_by_vector(output, 1)\n",
    "    # 将标准答案中的词与最相似的向量所对应的词打印出来\n",
    "    results.append([original_words[i][1], most_similar[0][0]])\n",
    "    \n",
    "    # 全词匹配\n",
    "    if original_words[i][1] == most_similar[0][0]:\n",
    "        exact_same += 1\n",
    "    # 某一个字匹配\n",
    "    if list(set(list(original_words[i][1])) & set(list(most_similar[0][0]))) != []:\n",
    "        one_same += 1\n",
    "    \n",
    "print(\"精确匹配率：{:.2f}\".format(1.0 * exact_same / len(test_data)))\n",
    "print('一字匹配率：{:.2f}'.format(1.0 * one_same / len(test_data)))\n",
    "print(results)"
   ]
  },
  {
   "cell_type": "code",
   "execution_count": null,
   "metadata": {
    "collapsed": true
   },
   "outputs": [],
   "source": []
  },
  {
   "cell_type": "code",
   "execution_count": null,
   "metadata": {
    "collapsed": true
   },
   "outputs": [],
   "source": []
  }
 ],
 "metadata": {
  "kernelspec": {
   "display_name": "Python 3",
   "language": "python",
   "name": "python3"
  },
  "language_info": {
   "codemirror_mode": {
    "name": "ipython",
    "version": 3
   },
   "file_extension": ".py",
   "mimetype": "text/x-python",
   "name": "python",
   "nbconvert_exporter": "python",
   "pygments_lexer": "ipython3",
   "version": "3.6.2"
  }
 },
 "nbformat": 4,
 "nbformat_minor": 2
}
